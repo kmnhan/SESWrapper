{
 "cells": [
  {
   "cell_type": "code",
   "execution_count": 1,
   "metadata": {
    "notebookRunGroups": {
     "groupValue": "1"
    }
   },
   "outputs": [],
   "source": [
    "from ses_measure import SESMeasure\n"
   ]
  },
  {
   "cell_type": "code",
   "execution_count": 2,
   "metadata": {},
   "outputs": [
    {
     "name": "stdout",
     "output_type": "stream",
     "text": [
      "Setting string property  \"lib_working_dir\" to D:/SES_1.9.6_Win64\n",
      "Setting string property  \"instrument_library\" to D:/SES_1.9.6_Win64/dll/SESInstrument.dll\n",
      "Laoding Instrument\n",
      "Setting string property  \"element_set\" to Low Pass (UPS)\n"
     ]
    }
   ],
   "source": [
    "ses_dir = \"D:/SES_1.9.6_Win64\"\n",
    "dllpath = \"D:/SES_1.9.6_Win64/SESWrapper.dll\"\n",
    "ses_instrument = ses_dir + \"/dll/SESInstrument.dll\"\n",
    "inst_path = ses_dir + \"/data/DA30_Instrument.dat\"\n",
    "\n",
    "\n",
    "sm = SESMeasure(\n",
    "    dllpath,\n",
    "    ses_dir,\n",
    "    ses_instrument=ses_instrument,\n",
    "    inst_path=inst_path,\n",
    "    verbose=True,\n",
    "    element_set=\"Low Pass (UPS)\",\n",
    "    motorcontrol=None,\n",
    ")"
   ]
  },
  {
   "cell_type": "code",
   "execution_count": 9,
   "metadata": {},
   "outputs": [
    {
     "name": "stdout",
     "output_type": "stream",
     "text": [
      "Finalizing\n"
     ]
    }
   ],
   "source": [
    "sm.Finalize()"
   ]
  },
  {
   "cell_type": "code",
   "execution_count": 2,
   "metadata": {},
   "outputs": [
    {
     "name": "stdout",
     "output_type": "stream",
     "text": [
      "Setting string property  \"lib_working_dir\" to D:/SES_1.9.6_Win64\n",
      "Setting string property  \"instrument_library\" to D:/SES_1.9.6_Win64/dll/SESInstrument.dll\n",
      "Laoding Instrument\n",
      "Setting string property  \"element_set\" to Low Pass (UPS)\n",
      "Setting double/float property  \"pass_energy\" to 20.0\n",
      "Setting string property  \"lens_mode\" to DA30_01\n",
      "Setting Analyzer region\n",
      "Initializing acquisition\n",
      "Getting data\n",
      "Getting data  acq_channels  of type  <class 'ctypes.c_long'>\n",
      "Getting data\n",
      "Getting data  acq_slices  of type  <class 'ctypes.c_long'>\n",
      "Starting acquisition\n",
      "Waiting for region\n",
      "Continuing acquisition\n",
      "Getting data array\n",
      "Getting data array\n",
      "Getting data array\n",
      "Stopping Acquisition\n",
      "Stopping acquisition\n",
      "Finalizing\n"
     ]
    }
   ],
   "source": [
    "\n",
    "\n",
    "region = {\n",
    "    \"centerEnergy\": 16.2000,\n",
    "    \"dwellTime\": 10,  # ms\n",
    "    \"energyStep\": 0.020,\n",
    "    \"fixed\": False,\n",
    "    \"highEnergy\": 16.9778,\n",
    "    \"lowEnergy\": 15.4222,\n",
    "    \"lens_mode\": \"DA30_01\",\n",
    "    \"pass_energy\": 20.0,\n",
    "    \"sweeps\": 1,\n",
    "}\n",
    "\n",
    "data, slice_scale, channel_scale = sm.MeasureAnalyzerRegion(\n",
    "    region, data=None, updatefreq=\"slice\", path=None\n",
    ")\n",
    "# motor_paths = {\"P\": np.linspace(-15, 12, 91)}\n",
    "\n",
    "# data, slice_scale, channel_scale = sm.MeasureWithMotors(region, motor_paths)\n",
    "\n",
    "sm.Finalize()"
   ]
  },
  {
   "cell_type": "code",
   "execution_count": 3,
   "metadata": {},
   "outputs": [
    {
     "name": "stderr",
     "output_type": "stream",
     "text": [
      "C:\\Users\\USER\\Documents\\Source\\arpes\\arpes\\config.py:52: UserWarning: Could not find local configuration file. If you don't have one, you can safely ignore this message.\n",
      "  warnings.warn(msg, **kwargs)\n"
     ]
    },
    {
     "data": {
      "text/plain": [
       "<erlab.interactive.imagetool.ImageTool at 0x1e2902652d0>"
      ]
     },
     "execution_count": 3,
     "metadata": {},
     "output_type": "execute_result"
    }
   ],
   "source": [
    "import erlab\n",
    "import erlab.plotting.erplot as eplt\n",
    "\n",
    "eplt.itool(data)"
   ]
  }
 ],
 "metadata": {
  "kernelspec": {
   "display_name": "erlab",
   "language": "python",
   "name": "python3"
  },
  "language_info": {
   "codemirror_mode": {
    "name": "ipython",
    "version": 3
   },
   "file_extension": ".py",
   "mimetype": "text/x-python",
   "name": "python",
   "nbconvert_exporter": "python",
   "pygments_lexer": "ipython3",
   "version": "3.11.4"
  },
  "orig_nbformat": 4
 },
 "nbformat": 4,
 "nbformat_minor": 2
}
